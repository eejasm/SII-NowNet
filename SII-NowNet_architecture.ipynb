{
 "cells": [
  {
   "cell_type": "code",
   "execution_count": 12,
   "id": "ddb5bb81-dcd9-477d-b8b9-dd12e86416a9",
   "metadata": {
    "tags": []
   },
   "outputs": [],
   "source": [
    "import tensorflow as tf\n",
    "from tensorflow import keras\n",
    "from tensorflow.keras import layers, losses\n",
    "from tensorflow.keras.layers import *\n",
    "from tensorflow.keras.models import Model\n",
    "from tensorflow.keras.callbacks import EarlyStopping"
   ]
  },
  {
   "cell_type": "code",
   "execution_count": 13,
   "id": "78dcab0e-2d4f-4a86-94ea-c7e65a41c155",
   "metadata": {
    "tags": []
   },
   "outputs": [
    {
     "name": "stdout",
     "output_type": "stream",
     "text": [
      "Model: \"model_6\"\n",
      "_________________________________________________________________\n",
      " Layer (type)                Output Shape              Param #   \n",
      "=================================================================\n",
      " input_7 (InputLayer)        [(None, 63, 63, 3)]       0         \n",
      "                                                                 \n",
      " visualized_layer_1 (Conv2D)  (None, 63, 63, 32)       896       \n",
      "                                                                 \n",
      " visualized_layer_2 (MaxPool  (None, 32, 32, 32)       0         \n",
      " ing2D)                                                          \n",
      "                                                                 \n",
      " visualized_layer_3 (Conv2D)  (None, 32, 32, 16)       4624      \n",
      "                                                                 \n",
      " visualized_layer_4 (MaxPool  (None, 16, 16, 16)       0         \n",
      " ing2D)                                                          \n",
      "                                                                 \n",
      " visualized_layer_5 (Conv2D)  (None, 16, 16, 8)        1160      \n",
      "                                                                 \n",
      " visualized_layer_6 (MaxPool  (None, 8, 8, 8)          0         \n",
      " ing2D)                                                          \n",
      "                                                                 \n",
      " flatten_6 (Flatten)         (None, 512)               0         \n",
      "                                                                 \n",
      " dropout_6 (Dropout)         (None, 512)               0         \n",
      "                                                                 \n",
      " visualized_layer_9 (Dense)  (None, 1)                 513       \n",
      "                                                                 \n",
      "=================================================================\n",
      "Total params: 7,193\n",
      "Trainable params: 7,193\n",
      "Non-trainable params: 0\n",
      "_________________________________________________________________\n"
     ]
    }
   ],
   "source": [
    "# BT, BT change and orography\n",
    "no_of_features = 3\n",
    "\n",
    "# Set default float type to float64\n",
    "tf.keras.backend.set_floatx('float64')\n",
    "\n",
    "# Regularization\n",
    "L1 = 0.001\n",
    "L2 = 0.001\n",
    "\n",
    "# input shape \n",
    "input_img = Input(shape=(63, 63, no_of_features))\n",
    "\n",
    "# build layers to the CNN - 3 convolutional layers and a dense layer\n",
    "x = layers.Conv2D(32, (3, 3), activation=tf.nn.gelu, padding='same', name='visualized_layer_1', kernel_regularizer=keras.regularizers.L2(l2=L2))(input_img)\n",
    "x = layers.MaxPooling2D((2, 2), padding='same',  name='visualized_layer_2')(x)\n",
    "\n",
    "x = layers.Conv2D(16, (3, 3), activation=tf.nn.gelu, padding='same', name='visualized_layer_3', kernel_regularizer=keras.regularizers.L2(l2=L2))(x)\n",
    "x = layers.MaxPooling2D((2, 2), padding='same',  name='visualized_layer_4')(x)\n",
    "\n",
    "x = layers.Conv2D(8, (3, 3), activation=tf.nn.gelu, padding='same',  name='visualized_layer_5', kernel_regularizer=keras.regularizers.L2(l2=L2))(x)\n",
    "x = layers.MaxPooling2D((2, 2), padding='same',  name='visualized_layer_6')(x)\n",
    "\n",
    "x = layers.Flatten()(x)\n",
    "x = layers.Dropout(0.1)(x)\n",
    "outputs = layers.Dense(1, activation = 'sigmoid',  name='visualized_layer_9')(x)\n",
    "\n",
    "# Define the model\n",
    "model = keras.Model(input_img, outputs)\n",
    "model.summary()\n",
    "\n",
    "# compile model if running\n",
    "model.compile(optimizer=keras.optimizers.Adam(learning_rate = 0.0001), loss=['binary_crossentropy'], metrics='binary_accuracy')\n",
    "\n",
    "# add early stopping to stop overfitting\n",
    "early_stopping = EarlyStopping(\n",
    "        monitor = 'val_loss',\n",
    "        min_delta=0.000001, # minimium amount of change to count as an improvement\n",
    "        patience=3, # how many epochs to wait before stopping\n",
    "        restore_best_weights=True,\n",
    "        mode='auto'\n",
    ")\n",
    "\n",
    "#\n",
    "class_weight = {0: 1,\n",
    "                1: 1}"
   ]
  },
  {
   "cell_type": "code",
   "execution_count": null,
   "id": "a7549fcd-571c-4185-9303-fe6d44784279",
   "metadata": {},
   "outputs": [],
   "source": []
  },
  {
   "cell_type": "markdown",
   "id": "29aa9bbb-b7da-4d87-be6d-62ec43657f7e",
   "metadata": {
    "tags": []
   },
   "source": [
    "Run this line when you have the training/validation data prepared and you want to train the model"
   ]
  },
  {
   "cell_type": "code",
   "execution_count": 14,
   "id": "f7d4b888-91a7-4e67-a450-596080a5af2f",
   "metadata": {
    "tags": []
   },
   "outputs": [],
   "source": [
    "#history = model.fit(train_dataset, validation_data=val_dataset, epochs = 100, callbacks = [early_stopping])"
   ]
  },
  {
   "cell_type": "code",
   "execution_count": null,
   "id": "4c5eff82-29a5-485f-b712-f18656ef951e",
   "metadata": {},
   "outputs": [],
   "source": []
  }
 ],
 "metadata": {
  "kernelspec": {
   "display_name": "Python 3 (ipykernel)",
   "language": "python",
   "name": "python3"
  },
  "language_info": {
   "codemirror_mode": {
    "name": "ipython",
    "version": 3
   },
   "file_extension": ".py",
   "mimetype": "text/x-python",
   "name": "python",
   "nbconvert_exporter": "python",
   "pygments_lexer": "ipython3",
   "version": "3.8.15"
  }
 },
 "nbformat": 4,
 "nbformat_minor": 5
}
